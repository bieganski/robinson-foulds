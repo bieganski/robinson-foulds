{
 "cells": [
  {
   "cell_type": "code",
   "execution_count": 197,
   "metadata": {},
   "outputs": [],
   "source": [
    "# homeo2.fa\n",
    "\n",
    "from Bio.Align.Applications import ClustalwCommandline\n",
    "\n",
    "clust = ClustalwCommandline(\"clustalw\", infile=\"homeo2.fa\")\n",
    "a = clust()\n"
   ]
  },
  {
   "cell_type": "code",
   "execution_count": 24,
   "metadata": {},
   "outputs": [
    {
     "name": "stdout",
     "output_type": "stream",
     "text": [
      "homeo2.dnd\n"
     ]
    }
   ],
   "source": [
    "# utworzone zostaly pliki .dnd i .aln\n",
    "from glob import glob\n",
    "dnd = glob(\"*dnd\")[0]\n",
    "print(dnd)"
   ]
  },
  {
   "cell_type": "code",
   "execution_count": 22,
   "metadata": {},
   "outputs": [
    {
     "name": "stdout",
     "output_type": "stream",
     "text": [
      "<class 'Bio.Phylo.Newick.Tree'>\n"
     ]
    }
   ],
   "source": [
    "from Bio import Phylo\n",
    "\n",
    "t1 = Phylo.read('homeo2.dnd', \"newick\")\n",
    "print(type(t1))"
   ]
  },
  {
   "cell_type": "code",
   "execution_count": 30,
   "metadata": {},
   "outputs": [
    {
     "name": "stdout",
     "output_type": "stream",
     "text": [
      "['homeo2.aln', 'homeo2.dnd', 'RF.ipynb', 'homeo2.fa']\n"
     ]
    }
   ],
   "source": [
    "from Bio.Align.Applications import MuscleCommandline\n",
    "muscle = MuscleCommandline(input=\"homeo2.fa\")\n",
    "out, err = muscle() # out w formacie fasta\n",
    "print(glob(\"*\"))"
   ]
  },
  {
   "cell_type": "code",
   "execution_count": 49,
   "metadata": {},
   "outputs": [],
   "source": [
    "from Bio import AlignIO\n",
    "from io import StringIO\n",
    "\n",
    "align_t2 = AlignIO.read(StringIO(out), \"fasta\")\n",
    "\n",
    "from Bio.Phylo.TreeConstruction import DistanceCalculator\n",
    "\n",
    "calculator = DistanceCalculator('blosum62')\n",
    "dm = calculator.get_distance(align_t2)\n",
    "\n",
    "# dm to nowoobliczona macierz podobieństwa\n"
   ]
  },
  {
   "cell_type": "code",
   "execution_count": 55,
   "metadata": {},
   "outputs": [],
   "source": [
    "# obliczenie dm trwa długo, zapisuję ją zatem na dysk\n",
    "\n",
    "import pickle\n",
    "pickle.dump(dm, open(\"dm.pickle\", \"wb\"))"
   ]
  },
  {
   "cell_type": "code",
   "execution_count": 60,
   "metadata": {},
   "outputs": [
    {
     "name": "stdout",
     "output_type": "stream",
     "text": [
      "<class 'Bio.Phylo.BaseTree.Tree'>\n"
     ]
    }
   ],
   "source": [
    "# tworzymy drugie drzewo filogenetyczne algorytmem NJ z macierzą dm\n",
    "\n",
    "from Bio.Phylo.TreeConstruction import DistanceTreeConstructor\n",
    "\n",
    "# dm = pickle.load( open( \"dm.pickle\", \"rb\" ) )\n",
    "\n",
    "constructor = DistanceTreeConstructor()\n",
    "t2 = constructor.nj(dm)\n",
    "\n",
    "print(type(t2))"
   ]
  },
  {
   "cell_type": "code",
   "execution_count": 61,
   "metadata": {},
   "outputs": [],
   "source": [
    "pickle.dump(t1, open(\"t1.pickle\", \"wb\"))\n",
    "pickle.dump(t2, open(\"t2.pickle\", \"wb\"))\n",
    "# t1 = pickle.load( open( \"t1.pickle\", \"rb\" ) )\n",
    "# t2 = pickle.load( open( \"t2.pickle\", \"rb\" ) )"
   ]
  },
  {
   "cell_type": "code",
   "execution_count": 212,
   "metadata": {},
   "outputs": [],
   "source": [
    "def napraw_nazwy(name):\n",
    "    return name.replace(\"(\", \"_\").replace(\")\", \"_\")\n",
    "\n",
    "terms = t2.get_terminals()\n",
    "for el in terms:\n",
    "    el.name = napraw_nazwy(el.name)\n",
    "\n",
    "s1 = frozenset([cl.name for cl in t1.get_terminals()])\n",
    "s2 = frozenset([cl.name for cl in t2.get_terminals()])\n",
    "assert(len(s1.intersection(s2)) == 839)\n"
   ]
  },
  {
   "cell_type": "code",
   "execution_count": 213,
   "metadata": {},
   "outputs": [],
   "source": [
    "m2 = dict() # mapa frozenset(A, B) -> clade z T2, \n",
    "           # gdzie type(A) == type(B) == frozenset, gdzie A, B tworzą podział liści drzewa T2\n",
    "\n",
    "for cl in t2.get_nonterminals():\n",
    "    termsA = frozenset([str(el) for el in cl.get_terminals()])\n",
    "    termsB = s2 - termsA\n",
    "    assert(len(termsA) + len(termsB) == 839)\n",
    "    m2[frozenset([termsA, termsB])] = cl\n"
   ]
  },
  {
   "cell_type": "code",
   "execution_count": 214,
   "metadata": {},
   "outputs": [],
   "source": [
    "m1 = dict() # mapa frozenset(A, B) -> clade z T1,\n",
    "           # gdzie type(A) == type(B) == frozenset, gdzie A, B tworzą podział liści drzewa T1\n",
    "\n",
    "for cl in t1.get_nonterminals():\n",
    "    termsA = frozenset([str(el) for el in cl.get_terminals()])\n",
    "    termsB = s1 - termsA\n",
    "    assert(len(termsA) + len(termsB) == 839)\n",
    "    m1[frozenset([termsA, termsB])] = cl"
   ]
  },
  {
   "cell_type": "code",
   "execution_count": 216,
   "metadata": {},
   "outputs": [
    {
     "name": "stdout",
     "output_type": "stream",
     "text": [
      "RF(T1, T2) = 0.2613624535927039\n"
     ]
    }
   ],
   "source": [
    "res = 0\n",
    "\n",
    "def odNonuj(cos):\n",
    "    return 0 if cos is None else cos\n",
    "\n",
    "for podzial in m1:\n",
    "    cl1 = m1[podzial] # istnieje\n",
    "    cl2 = m2.get(podzial) # moze byc none\n",
    "    if cl2 is None:\n",
    "        res += (odNonuj(cl1.branch_length) ** 2)\n",
    "    else:\n",
    "        res += ((odNonuj(cl1.branch_length) - odNonuj(cl2.branch_length)) ** 2)\n",
    "\n",
    "for podzial in m2:\n",
    "    cl2 = m2[podzial] # istnieje\n",
    "    cl1 = m1.get(podzial) # moze byc none\n",
    "    if cl1 is None:\n",
    "        res += (odNonuj(cl2.branch_length) ** 2)\n",
    "    else:\n",
    "        pass # to już było policzone\n",
    "\n",
    "print(\"RF(T1, T2) = {}\".format(res))"
   ]
  }
 ],
 "metadata": {
  "kernelspec": {
   "display_name": "Python 3",
   "language": "python",
   "name": "python3"
  },
  "language_info": {
   "codemirror_mode": {
    "name": "ipython",
    "version": 3
   },
   "file_extension": ".py",
   "mimetype": "text/x-python",
   "name": "python",
   "nbconvert_exporter": "python",
   "pygments_lexer": "ipython3",
   "version": "3.5.2"
  }
 },
 "nbformat": 4,
 "nbformat_minor": 2
}
